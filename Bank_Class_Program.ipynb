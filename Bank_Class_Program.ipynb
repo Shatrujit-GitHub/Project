{
 "cells": [
  {
   "cell_type": "code",
   "execution_count": 54,
   "id": "6873ff6c-df51-4165-80dd-07487fea426c",
   "metadata": {},
   "outputs": [
    {
     "name": "stdout",
     "output_type": "stream",
     "text": [
      "***************\n",
      "banking Program\n",
      "***************\n",
      "1. Check Balance.\n",
      "2. Deposit Money\n",
      "3. Withdraw Money\n",
      "4. Exit\n"
     ]
    },
    {
     "name": "stdin",
     "output_type": "stream",
     "text": [
      "Enter Your Choice (1-4) :  1\n"
     ]
    },
    {
     "name": "stdout",
     "output_type": "stream",
     "text": [
      "****************\n",
      "Your Balance is Rs.0.00\n",
      "***************\n",
      "banking Program\n",
      "***************\n",
      "1. Check Balance.\n",
      "2. Deposit Money\n",
      "3. Withdraw Money\n",
      "4. Exit\n"
     ]
    },
    {
     "name": "stdin",
     "output_type": "stream",
     "text": [
      "Enter Your Choice (1-4) :  2\n"
     ]
    },
    {
     "name": "stdout",
     "output_type": "stream",
     "text": [
      "****************\n"
     ]
    },
    {
     "name": "stdin",
     "output_type": "stream",
     "text": [
      "Please Enter the amount you want to deposit :  450\n"
     ]
    },
    {
     "name": "stdout",
     "output_type": "stream",
     "text": [
      "You have deposited Rs.: 450.0\n",
      "***************\n",
      "banking Program\n",
      "***************\n",
      "1. Check Balance.\n",
      "2. Deposit Money\n",
      "3. Withdraw Money\n",
      "4. Exit\n"
     ]
    },
    {
     "name": "stdin",
     "output_type": "stream",
     "text": [
      "Enter Your Choice (1-4) :  1\n"
     ]
    },
    {
     "name": "stdout",
     "output_type": "stream",
     "text": [
      "****************\n",
      "Your Balance is Rs.450.00\n",
      "***************\n",
      "banking Program\n",
      "***************\n",
      "1. Check Balance.\n",
      "2. Deposit Money\n",
      "3. Withdraw Money\n",
      "4. Exit\n"
     ]
    },
    {
     "name": "stdin",
     "output_type": "stream",
     "text": [
      "Enter Your Choice (1-4) :  2\n"
     ]
    },
    {
     "name": "stdout",
     "output_type": "stream",
     "text": [
      "****************\n"
     ]
    },
    {
     "name": "stdin",
     "output_type": "stream",
     "text": [
      "Please Enter the amount you want to deposit :  500\n"
     ]
    },
    {
     "name": "stdout",
     "output_type": "stream",
     "text": [
      "You have deposited Rs.: 500.0\n",
      "***************\n",
      "banking Program\n",
      "***************\n",
      "1. Check Balance.\n",
      "2. Deposit Money\n",
      "3. Withdraw Money\n",
      "4. Exit\n"
     ]
    },
    {
     "name": "stdin",
     "output_type": "stream",
     "text": [
      "Enter Your Choice (1-4) :  1\n"
     ]
    },
    {
     "name": "stdout",
     "output_type": "stream",
     "text": [
      "****************\n",
      "Your Balance is Rs.950.00\n",
      "***************\n",
      "banking Program\n",
      "***************\n",
      "1. Check Balance.\n",
      "2. Deposit Money\n",
      "3. Withdraw Money\n",
      "4. Exit\n"
     ]
    },
    {
     "name": "stdin",
     "output_type": "stream",
     "text": [
      "Enter Your Choice (1-4) :  2\n"
     ]
    },
    {
     "name": "stdout",
     "output_type": "stream",
     "text": [
      "****************\n"
     ]
    },
    {
     "name": "stdin",
     "output_type": "stream",
     "text": [
      "Please Enter the amount you want to deposit :  4000\n"
     ]
    },
    {
     "name": "stdout",
     "output_type": "stream",
     "text": [
      "You have deposited Rs.: 4000.0\n",
      "***************\n",
      "banking Program\n",
      "***************\n",
      "1. Check Balance.\n",
      "2. Deposit Money\n",
      "3. Withdraw Money\n",
      "4. Exit\n"
     ]
    },
    {
     "name": "stdin",
     "output_type": "stream",
     "text": [
      "Enter Your Choice (1-4) :  1\n"
     ]
    },
    {
     "name": "stdout",
     "output_type": "stream",
     "text": [
      "****************\n",
      "Your Balance is Rs.4950.00\n",
      "***************\n",
      "banking Program\n",
      "***************\n",
      "1. Check Balance.\n",
      "2. Deposit Money\n",
      "3. Withdraw Money\n",
      "4. Exit\n"
     ]
    },
    {
     "name": "stdin",
     "output_type": "stream",
     "text": [
      "Enter Your Choice (1-4) :  3\n"
     ]
    },
    {
     "name": "stdout",
     "output_type": "stream",
     "text": [
      "****************\n"
     ]
    },
    {
     "name": "stdin",
     "output_type": "stream",
     "text": [
      "Please enter the amount you want to withdraw :  500\n"
     ]
    },
    {
     "name": "stdout",
     "output_type": "stream",
     "text": [
      "You have withdrawn Rs.: 500.0\n",
      "***************\n",
      "banking Program\n",
      "***************\n",
      "1. Check Balance.\n",
      "2. Deposit Money\n",
      "3. Withdraw Money\n",
      "4. Exit\n"
     ]
    },
    {
     "name": "stdin",
     "output_type": "stream",
     "text": [
      "Enter Your Choice (1-4) :  1\n"
     ]
    },
    {
     "name": "stdout",
     "output_type": "stream",
     "text": [
      "****************\n",
      "Your Balance is Rs.4450.00\n",
      "***************\n",
      "banking Program\n",
      "***************\n",
      "1. Check Balance.\n",
      "2. Deposit Money\n",
      "3. Withdraw Money\n",
      "4. Exit\n"
     ]
    },
    {
     "name": "stdin",
     "output_type": "stream",
     "text": [
      "Enter Your Choice (1-4) :  2\n"
     ]
    },
    {
     "name": "stdout",
     "output_type": "stream",
     "text": [
      "****************\n"
     ]
    },
    {
     "name": "stdin",
     "output_type": "stream",
     "text": [
      "Please Enter the amount you want to deposit :  -250\n"
     ]
    },
    {
     "name": "stdout",
     "output_type": "stream",
     "text": [
      "Wrong Entry\n",
      "***************\n",
      "banking Program\n",
      "***************\n",
      "1. Check Balance.\n",
      "2. Deposit Money\n",
      "3. Withdraw Money\n",
      "4. Exit\n"
     ]
    },
    {
     "name": "stdin",
     "output_type": "stream",
     "text": [
      "Enter Your Choice (1-4) :  2\n"
     ]
    },
    {
     "name": "stdout",
     "output_type": "stream",
     "text": [
      "****************\n"
     ]
    },
    {
     "name": "stdin",
     "output_type": "stream",
     "text": [
      "Please Enter the amount you want to deposit :  1000\n"
     ]
    },
    {
     "name": "stdout",
     "output_type": "stream",
     "text": [
      "You have deposited Rs.: 1000.0\n",
      "***************\n",
      "banking Program\n",
      "***************\n",
      "1. Check Balance.\n",
      "2. Deposit Money\n",
      "3. Withdraw Money\n",
      "4. Exit\n"
     ]
    },
    {
     "name": "stdin",
     "output_type": "stream",
     "text": [
      "Enter Your Choice (1-4) :  2\n"
     ]
    },
    {
     "name": "stdout",
     "output_type": "stream",
     "text": [
      "****************\n"
     ]
    },
    {
     "name": "stdin",
     "output_type": "stream",
     "text": [
      "Please Enter the amount you want to deposit :  250\n"
     ]
    },
    {
     "name": "stdout",
     "output_type": "stream",
     "text": [
      "You have deposited Rs.: 250.0\n",
      "***************\n",
      "banking Program\n",
      "***************\n",
      "1. Check Balance.\n",
      "2. Deposit Money\n",
      "3. Withdraw Money\n",
      "4. Exit\n"
     ]
    },
    {
     "name": "stdin",
     "output_type": "stream",
     "text": [
      "Enter Your Choice (1-4) :  1\n"
     ]
    },
    {
     "name": "stdout",
     "output_type": "stream",
     "text": [
      "****************\n",
      "Your Balance is Rs.5700.00\n",
      "***************\n",
      "banking Program\n",
      "***************\n",
      "1. Check Balance.\n",
      "2. Deposit Money\n",
      "3. Withdraw Money\n",
      "4. Exit\n"
     ]
    },
    {
     "name": "stdin",
     "output_type": "stream",
     "text": [
      "Enter Your Choice (1-4) :  3\n"
     ]
    },
    {
     "name": "stdout",
     "output_type": "stream",
     "text": [
      "****************\n"
     ]
    },
    {
     "name": "stdin",
     "output_type": "stream",
     "text": [
      "Please enter the amount you want to withdraw :  6000\n"
     ]
    },
    {
     "name": "stdout",
     "output_type": "stream",
     "text": [
      "Withdrawal amount exceeds your balance :\n",
      "***************\n",
      "banking Program\n",
      "***************\n",
      "1. Check Balance.\n",
      "2. Deposit Money\n",
      "3. Withdraw Money\n",
      "4. Exit\n"
     ]
    },
    {
     "name": "stdin",
     "output_type": "stream",
     "text": [
      "Enter Your Choice (1-4) :  -800\n"
     ]
    },
    {
     "name": "stdout",
     "output_type": "stream",
     "text": [
      "****************\n",
      "Wrong Choice\n",
      "***************\n",
      "banking Program\n",
      "***************\n",
      "1. Check Balance.\n",
      "2. Deposit Money\n",
      "3. Withdraw Money\n",
      "4. Exit\n"
     ]
    },
    {
     "name": "stdin",
     "output_type": "stream",
     "text": [
      "Enter Your Choice (1-4) :  3\n"
     ]
    },
    {
     "name": "stdout",
     "output_type": "stream",
     "text": [
      "****************\n"
     ]
    },
    {
     "name": "stdin",
     "output_type": "stream",
     "text": [
      "Please enter the amount you want to withdraw :  -250\n"
     ]
    },
    {
     "name": "stdout",
     "output_type": "stream",
     "text": [
      "Wrong Entry\n",
      "***************\n",
      "banking Program\n",
      "***************\n",
      "1. Check Balance.\n",
      "2. Deposit Money\n",
      "3. Withdraw Money\n",
      "4. Exit\n"
     ]
    },
    {
     "name": "stdin",
     "output_type": "stream",
     "text": [
      "Enter Your Choice (1-4) :  3\n"
     ]
    },
    {
     "name": "stdout",
     "output_type": "stream",
     "text": [
      "****************\n"
     ]
    },
    {
     "name": "stdin",
     "output_type": "stream",
     "text": [
      "Please enter the amount you want to withdraw :  -250\n"
     ]
    },
    {
     "name": "stdout",
     "output_type": "stream",
     "text": [
      "Wrong Entry\n",
      "***************\n",
      "banking Program\n",
      "***************\n",
      "1. Check Balance.\n",
      "2. Deposit Money\n",
      "3. Withdraw Money\n",
      "4. Exit\n"
     ]
    },
    {
     "name": "stdin",
     "output_type": "stream",
     "text": [
      "Enter Your Choice (1-4) :  3\n"
     ]
    },
    {
     "name": "stdout",
     "output_type": "stream",
     "text": [
      "****************\n"
     ]
    },
    {
     "name": "stdin",
     "output_type": "stream",
     "text": [
      "Please enter the amount you want to withdraw :  700\n"
     ]
    },
    {
     "name": "stdout",
     "output_type": "stream",
     "text": [
      "You have withdrawn Rs.: 700.0\n",
      "***************\n",
      "banking Program\n",
      "***************\n",
      "1. Check Balance.\n",
      "2. Deposit Money\n",
      "3. Withdraw Money\n",
      "4. Exit\n"
     ]
    },
    {
     "name": "stdin",
     "output_type": "stream",
     "text": [
      "Enter Your Choice (1-4) :  1\n"
     ]
    },
    {
     "name": "stdout",
     "output_type": "stream",
     "text": [
      "****************\n",
      "Your Balance is Rs.5000.00\n",
      "***************\n",
      "banking Program\n",
      "***************\n",
      "1. Check Balance.\n",
      "2. Deposit Money\n",
      "3. Withdraw Money\n",
      "4. Exit\n"
     ]
    },
    {
     "name": "stdin",
     "output_type": "stream",
     "text": [
      "Enter Your Choice (1-4) :  q\n"
     ]
    },
    {
     "name": "stdout",
     "output_type": "stream",
     "text": [
      "****************\n",
      "Wrong Choice\n",
      "***************\n",
      "banking Program\n",
      "***************\n",
      "1. Check Balance.\n",
      "2. Deposit Money\n",
      "3. Withdraw Money\n",
      "4. Exit\n"
     ]
    },
    {
     "name": "stdin",
     "output_type": "stream",
     "text": [
      "Enter Your Choice (1-4) :  4\n"
     ]
    },
    {
     "name": "stdout",
     "output_type": "stream",
     "text": [
      "****************\n",
      "Thank You! Have a nice day!\n"
     ]
    }
   ],
   "source": [
    "# class Bank :\n",
    "    def show_balance(self,balance) :\n",
    "        self.balance = balance\n",
    "        print(f\"Your Balance is Rs.{self.balance:.2f}\")\n",
    "        \n",
    "    def deposit(self) :   \n",
    "        \n",
    "        rs = float(input(\"Please Enter the amount you want to deposit : \"))\n",
    "        \n",
    "        if rs < 0 :\n",
    "            print(\"Wrong Entry\")\n",
    "        else :\n",
    "            self.balance = self.balance + rs\n",
    "            print(\"You have deposited Rs.:\",rs)\n",
    "            return self.balance\n",
    "        \n",
    "    def withdraw(self) :\n",
    "        rs = float(input(\"Please enter the amount you want to withdraw : \"))\n",
    "    \n",
    "        if rs < 0 :\n",
    "            print(\"Wrong Entry\")\n",
    "            \n",
    "        elif rs > self.balance :\n",
    "            print(\"Withdrawal amount exceeds your balance :\")\n",
    "\n",
    "        else :\n",
    "            self.balance = self.balance - rs\n",
    "            print(\"You have withdrawn Rs.:\",rs)\n",
    "            return self.balance\n",
    "\n",
    "\n",
    "balance = 0\n",
    "is_running = True\n",
    "b1 = Bank()\n",
    "\n",
    "while is_running == True :\n",
    "    print(\"***************\")\n",
    "    print(\"banking Program\")\n",
    "    print(\"***************\")\n",
    "    print(\"1. Check Balance.\")\n",
    "    print(\"2. Deposit Money\")\n",
    "    print(\"3. Withdraw Money\")\n",
    "    print(\"4. Exit\")\n",
    "\n",
    "    choice = input(\"Enter Your Choice (1-4) : \")\n",
    "    print(\"****************\")\n",
    "    \n",
    "    if choice == '1' :\n",
    "        b1.show_balance(balance)\n",
    "    elif choice == '2' :\n",
    "       balance = b1.deposit()\n",
    "    elif choice == '3' :\n",
    "        balance = b1.withdraw()\n",
    "    elif choice == '4' :\n",
    "        is_running = False\n",
    "    else :\n",
    "        print(\"Wrong Choice\")\n",
    "\n",
    "print(\"Thank You! Have a nice day!\")\n",
    "\n"
   ]
  },
  {
   "cell_type": "code",
   "execution_count": null,
   "id": "11d9cecc-3cb6-424e-8347-359be343c6e6",
   "metadata": {},
   "outputs": [],
   "source": []
  }
 ],
 "metadata": {
  "kernelspec": {
   "display_name": "Python 3 (ipykernel)",
   "language": "python",
   "name": "python3"
  },
  "language_info": {
   "codemirror_mode": {
    "name": "ipython",
    "version": 3
   },
   "file_extension": ".py",
   "mimetype": "text/x-python",
   "name": "python",
   "nbconvert_exporter": "python",
   "pygments_lexer": "ipython3",
   "version": "3.12.4"
  }
 },
 "nbformat": 4,
 "nbformat_minor": 5
}
